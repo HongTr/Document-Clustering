{
  "cells": [
    {
      "cell_type": "markdown",
      "metadata": {
        "id": "SjkYx5xIZXD7"
      },
      "source": [
        "1. Import Library"
      ]
    },
    {
      "cell_type": "code",
      "execution_count": null,
      "metadata": {
        "id": "0WYk_PFJZXEN"
      },
      "outputs": [],
      "source": [
        "%pip install pyvi\n",
        "from pyvi import ViTokenizer"
      ]
    },
    {
      "cell_type": "code",
      "execution_count": null,
      "metadata": {
        "id": "Bs9juK7nZXET"
      },
      "outputs": [],
      "source": [
        "import numpy as np\n",
        "import matplotlib.pyplot as plt\n",
        "import pandas as pd\n",
        "import string\n",
        "import regex as re\n",
        "from gensim.parsing.preprocessing import strip_numeric\n",
        "from keras.preprocessing.text import Tokenizer\n",
        "from sklearn.feature_extraction.text import CountVectorizer\n",
        "from scipy.spatial.distance import cdist\n",
        "from itertools import chain\n",
        "from sklearn.naive_bayes import BernoulliNB\n",
        "from sklearn.svm import SVC\n",
        "from sklearn.linear_model import LogisticRegression\n",
        "from sklearn.metrics import classification_report\n",
        "from sklearn.model_selection import train_test_split\n",
        "from sklearn.metrics import v_measure_score"
      ]
    },
    {
      "cell_type": "code",
      "execution_count": null,
      "metadata": {
        "id": "IIQe9uLJZXEV"
      },
      "outputs": [],
      "source": [
        "def remove_punctuation(document):\n",
        "    for letter in document:\n",
        "        if letter in string.punctuation:\n",
        "            document = document.replace(letter, \"\")\n",
        "    return document\n",
        "def remove_punctuation(document):\n",
        "    return re.sub(r'[^\\s\\wáàảãạăắằẳẵặâấầẩẫậéèẻẽẹêếềểễệóòỏõọôốồổỗộơớờởỡợíìỉĩịúùủũụưứừửữựýỳỷỹỵđ_]',' ',document)\n",
        "def remove_blank(document):\n",
        "    return re.sub(r'\\s+', ' ', document).strip()\n",
        "def text_preprocess(document):\n",
        "    document = strip_numeric(document)\n",
        "    document = ViTokenizer.tokenize(document)\n",
        "    document = document.lower()\n",
        "    document = remove_punctuation(document)\n",
        "    document = remove_blank(document)\n",
        "    return document"
      ]
    },
    {
      "cell_type": "code",
      "execution_count": null,
      "metadata": {
        "id": "J5PUKbouZXEb"
      },
      "outputs": [],
      "source": [
        "label = {0: 'am_nhac', 1: 'am_thuc', 2: 'bat_dong_san', 3: 'bong_da', 4: 'chung_khoan', 5: 'du_hoc', 6: 'du_lich', 7: 'gia_dinh', 8: 'hinh_su', 9: 'thoi_trang'}\n",
        "number_of_label = 10\n",
        "my_list = []\n",
        "my_labels = []\n",
        "for i in range(number_of_label):\n",
        "  filename = label.get(i) + '_train.csv'\n",
        "  df =  pd.read_csv(filename, delimiter = '\\n', header = None ,encoding = 'UTF-16').values\n",
        "  for j in range(df.shape[0]):\n",
        "    df[j, :][0] = text_preprocess(df[j, :][0])\n",
        "    my_list.append(df[j, :][0])\n",
        "    my_labels.append(i)"
      ]
    },
    {
      "cell_type": "code",
      "execution_count": null,
      "metadata": {
        "id": "EAeWkXGdZXEs"
      },
      "outputs": [],
      "source": [
        "my_list = pd.read_csv(\"my_list.csv\", header=None).values.flatten()\n",
        "my_labels = pd.read_csv(\"my_labels.csv\", header=None).values.flatten()"
      ]
    },
    {
      "cell_type": "code",
      "execution_count": null,
      "metadata": {
        "id": "tJbl7FuyZXEt",
        "outputId": "ebe28171-c2ec-4a52-eead-609add6329f0"
      },
      "outputs": [
        {
          "data": {
            "text/plain": [
              "(1943,)"
            ]
          },
          "execution_count": 20,
          "metadata": {},
          "output_type": "execute_result"
        }
      ],
      "source": [
        "my_labels = pd.read_csv(\"my_labels.csv\", header=None).values.flatten()\n",
        "my_labels.shape"
      ]
    },
    {
      "cell_type": "markdown",
      "metadata": {
        "id": "lubtTfGfZXFG"
      },
      "source": [
        "2. Feature Extraction"
      ]
    },
    {
      "cell_type": "code",
      "execution_count": null,
      "metadata": {
        "id": "rObE0TyXZXFI"
      },
      "outputs": [],
      "source": [
        "vectorizer = CountVectorizer()\n",
        "\n",
        "#Remove word starts with '_' or ends with '_'\n",
        "each_word_my_list = [i.split(\" \") for i in my_list]\n",
        "for sentence in each_word_my_list:\n",
        "  for word in sentence:\n",
        "    if word[0] == '_' or word[-1] == '_':\n",
        "      sentence.remove(word)\n",
        "my_list = [\" \".join(sentence) for sentence in each_word_my_list]\n",
        "X_count = np.array(vectorizer.fit_transform(my_list).toarray()) #count matrix\n",
        "word_dict = np.array(vectorizer.get_feature_names()) #bag of word"
      ]
    },
    {
      "cell_type": "code",
      "execution_count": null,
      "metadata": {
        "id": "z5zihbjBZXFJ",
        "outputId": "c2cd77ac-f174-4cbd-9e2f-0f2897320d06"
      },
      "outputs": [
        {
          "name": "stdout",
          "output_type": "stream",
          "text": [
            "(27133,)\n",
            "(1943, 27133)\n"
          ]
        }
      ],
      "source": [
        "print(word_dict.shape)\n",
        "print(X_count.shape)"
      ]
    },
    {
      "cell_type": "code",
      "execution_count": null,
      "metadata": {
        "id": "h9DBIlfvZXFL"
      },
      "outputs": [],
      "source": [
        "def cal_tfidf(X):\n",
        "    tf = X/np.sum(X, axis = 1, keepdims = True)\n",
        "    N = X.shape[0]\n",
        "    d = np.count_nonzero(X, axis = 0, keepdims = True)\n",
        "    idf = np.log(N/(d + 1))\n",
        "    return tf*idf\n",
        "X_tfidf = cal_tfidf(X_count)"
      ]
    },
    {
      "cell_type": "code",
      "execution_count": null,
      "metadata": {
        "id": "FcNOlxR1ZXFO"
      },
      "outputs": [],
      "source": [
        "#X ma trận N * d\n",
        "def kmeans_init_centroids(X, k):\n",
        "  #Chọn k hàng bất kì trong ma trận X\n",
        "  # k * d\n",
        "  return X[np.random.choice(X.shape[0], k, replace = False)]\n",
        "\n",
        "def kmeans_assign_labels(X, centroids, metric):\n",
        "  #Tính khoảng cách giữa từng điểm vs centroids\n",
        "  D = cdist(X, centroids, metric = metric)\n",
        "  #return index của điểm gần với centroids nhất\n",
        "  #(d,) nhận các giá trị từ (0, 1, ...k-1)\n",
        "  return np.argmin(D, axis = 1)\n",
        "\n",
        "def has_converged(centroids, new_centroids):\n",
        "  return (set([tuple(a) for a in centroids]) == set([tuple(a) for a in new_centroids]))\n",
        "\n",
        "def kmeans_update_centroids(X, labels, K):\n",
        "  centroids = np.zeros((K, X.shape[1]))\n",
        "  for k in range(K):\n",
        "    #Lấy các điểm có label = k\n",
        "    Xk = X[labels == k, :]\n",
        "    #centroid thứ k lấy trung bình cộng\n",
        "    centroids[k, :] = np.mean(Xk, axis = 0)\n",
        "  return centroids\n",
        "\n",
        "def cal_inertia(X, labels, K, centroids, metric):\n",
        "  inertia = 0\n",
        "  for k in range(K):\n",
        "    Xk = X[labels == k, :]\n",
        "    sum =  np.sum(cdist(Xk, centroids[k:k+1, :], metric = metric), axis = 0)\n",
        "    inertia += np.sum(sum ** 2)\n",
        "  return inertia\n",
        "\n",
        "def kmeans(X, K, metric):\n",
        "  centroids = kmeans_init_centroids(X, K)  #k * d\n",
        "  labels = []\n",
        "  i = 0\n",
        "  while True:\n",
        "    labels = kmeans_assign_labels(X, centroids, metric)\n",
        "    new_centroids = kmeans_update_centroids(X, labels, K)\n",
        "    if has_converged(centroids, new_centroids) or i == 500:\n",
        "      break\n",
        "    centroids = new_centroids\n",
        "    i += 1\n",
        "  return centroids, labels"
      ]
    },
    {
      "cell_type": "markdown",
      "metadata": {
        "id": "3lNbSl93ZXFX"
      },
      "source": [
        "2.1 Loại bỏ bằng việc quan sát số lần xuất hiện"
      ]
    },
    {
      "cell_type": "code",
      "execution_count": null,
      "metadata": {
        "id": "jDJf_mzNZXFY"
      },
      "outputs": [],
      "source": [
        "word_freq = np.sum(X_count, axis = 0)     #count number of times each words in BoW appeared\n",
        "word_freq_sort = np.sort(word_freq)            \n",
        "word_freq_index = np.argsort(word_freq)\n",
        "word_freq_dict = [(i, np.count_nonzero(word_freq == i)) for i in np.unique(word_freq)]"
      ]
    },
    {
      "cell_type": "code",
      "execution_count": null,
      "metadata": {
        "id": "5qfUnixoZXFZ",
        "outputId": "224fdbb1-219b-4e09-dbff-d76e0ecf7702"
      },
      "outputs": [
        {
          "data": {
            "text/plain": [
              "array([ 3,  1,  1, ...,  1,  1, 18], dtype=int64)"
            ]
          },
          "execution_count": 30,
          "metadata": {},
          "output_type": "execute_result"
        }
      ],
      "source": [
        "word_freq"
      ]
    },
    {
      "cell_type": "code",
      "execution_count": null,
      "metadata": {
        "id": "Lck6i7ssZXFa",
        "outputId": "bbb4d850-068a-4647-fd18-fbedb48b1bbe"
      },
      "outputs": [
        {
          "data": {
            "text/plain": [
              "[(1, 11616),\n",
              " (2, 3803),\n",
              " (3, 1990),\n",
              " (4, 1288),\n",
              " (5, 936),\n",
              " (6, 720),\n",
              " (7, 540),\n",
              " (8, 464),\n",
              " (9, 355),\n",
              " (10, 322)]"
            ]
          },
          "execution_count": 36,
          "metadata": {},
          "output_type": "execute_result"
        }
      ],
      "source": [
        "word_freq_dict[:10]"
      ]
    },
    {
      "cell_type": "code",
      "execution_count": null,
      "metadata": {
        "id": "Zy7A8T2sZXFc",
        "outputId": "20c665dc-a0a3-4764-9325-49be3e9c4a51"
      },
      "outputs": [
        {
          "data": {
            "text/plain": [
              "array([    1,     1,     1, ...,  9631, 11207, 11428], dtype=int64)"
            ]
          },
          "execution_count": 31,
          "metadata": {},
          "output_type": "execute_result"
        }
      ],
      "source": [
        "word_freq_sort"
      ]
    },
    {
      "cell_type": "code",
      "execution_count": null,
      "metadata": {
        "id": "YTHq4t_hZXFc",
        "outputId": "0ee6d2c2-0f46-4d24-8dcf-891ffa543b18"
      },
      "outputs": [
        {
          "data": {
            "text/plain": [
              "array([19864,  9757, 20739, ..., 11081, 23920,  4790], dtype=int64)"
            ]
          },
          "execution_count": 32,
          "metadata": {},
          "output_type": "execute_result"
        }
      ],
      "source": [
        "word_freq_index"
      ]
    },
    {
      "cell_type": "markdown",
      "metadata": {
        "id": "PJti7vIeZXFd"
      },
      "source": [
        "2.1.1. Loại bỏ các từ xuất hiện ít hơn 5 lần"
      ]
    },
    {
      "cell_type": "code",
      "execution_count": null,
      "metadata": {
        "id": "MPIOoO5NZXFe",
        "outputId": "92d5a4d2-59fd-4418-ad9d-40237d586d9f"
      },
      "outputs": [
        {
          "data": {
            "text/plain": [
              "18697"
            ]
          },
          "execution_count": 33,
          "metadata": {},
          "output_type": "execute_result"
        }
      ],
      "source": [
        "word_less_than_5 = [i for i in range(len(word_freq)) if word_freq[i] < 5][::-1]\n",
        "len(word_less_than_5)"
      ]
    },
    {
      "cell_type": "code",
      "execution_count": null,
      "metadata": {
        "id": "b_g1cAFYZXFf"
      },
      "outputs": [],
      "source": [
        "X_train_less5 = np.copy(X_tfidf)\n",
        "word_dict_less5 = np.copy(word_dict)\n",
        "X_train_less5 = np.delete(X_train_less5, word_less_than_5, 1)\n",
        "word_dict_less5 = np.delete(word_dict_less5, word_less_than_5)"
      ]
    },
    {
      "cell_type": "code",
      "execution_count": null,
      "metadata": {
        "id": "TDLpZa9_ZXFi"
      },
      "outputs": [],
      "source": [
        "K = range(2, 20)\n",
        "\n",
        "inertias = []\n",
        "silhouette_avg = []\n",
        "centroids_list = []\n",
        "labels_list = []\n",
        "for k in K:\n",
        "  centroids, labels = kmeans(X_train_less5, k, 'cosine')\n",
        "  centroids_list.append(centroids)\n",
        "  labels_list.append(labels)\n",
        "  inertia = cal_inertia(X_train_less5, labels, k, centroids, 'cosine')\n",
        "  inertias.append(inertia)"
      ]
    },
    {
      "cell_type": "code",
      "execution_count": null,
      "metadata": {
        "id": "MC0z--rfZXFk",
        "outputId": "bf395058-bef8-4cff-b875-aded999898fe"
      },
      "outputs": [
        {
          "data": {
            "image/png": "[encoded data removed]",
            "text/plain": [
              "<Figure size 432x288 with 1 Axes>"
            ]
          },
          "metadata": {
            "needs_background": "light"
          },
          "output_type": "display_data"
        }
      ],
      "source": [
        "plt.plot(K, inertias, 'bx-')\n",
        "plt.xlabel('Values of K')\n",
        "plt.ylabel('Inertia')\n",
        "plt.title('The Elbow Method')\n",
        "plt.show()"
      ]
    },
    {
      "cell_type": "code",
      "execution_count": null,
      "metadata": {
        "id": "80yTfjg-ZXFl",
        "outputId": "e5f3c682-e433-4eb9-e3a9-16ba35ed5296"
      },
      "outputs": [
        {
          "data": {
            "image/png": "[encoded data removed]",
            "text/plain": [
              "<Figure size 432x288 with 1 Axes>"
            ]
          },
          "metadata": {
            "needs_background": "light"
          },
          "output_type": "display_data"
        }
      ],
      "source": [
        "V = [v_measure_score(my_labels, labels_list[i]) for i in range(18)]\n",
        "plt.plot(K, V, 'bx-')\n",
        "plt.xlabel('Values of K')\n",
        "plt.ylabel('V - Measures')\n",
        "plt.title('V - Measures')\n",
        "plt.show()"
      ]
    },
    {
      "cell_type": "code",
      "execution_count": null,
      "metadata": {
        "id": "9H7GPsYGZXFm"
      },
      "outputs": [],
      "source": [
        "X_train, X_test, y_train, y_test = train_test_split(X_train_less5, np.array(my_labels).reshape(-1,), test_size=0.2)\n",
        "model1 = BernoulliNB()\n",
        "model1.fit(X_train, y_train)\n",
        "model2 = LogisticRegression()\n",
        "model2.fit(X_train, y_train)\n",
        "model3 = SVC()\n",
        "model3.fit(X_train, y_train)\n",
        "y_predict1 = model1.predict(X_test)\n",
        "y_predict2 = model2.predict(X_test)\n",
        "y_predict3 = model3.predict(X_test)"
      ]
    },
    {
      "cell_type": "code",
      "execution_count": null,
      "metadata": {
        "id": "JeO_PwSEZXFm",
        "outputId": "32a42dff-317f-4167-9d88-ee1611357e6b"
      },
      "outputs": [
        {
          "name": "stdout",
          "output_type": "stream",
          "text": [
            "BernoulliNB \n",
            "              precision    recall  f1-score   support\n",
            "\n",
            "           0       0.97      0.71      0.82        45\n",
            "           1       0.85      0.95      0.90        37\n",
            "           2       0.79      0.82      0.81        38\n",
            "           3       1.00      0.81      0.89        36\n",
            "           4       0.70      0.94      0.81        33\n",
            "           5       0.76      0.96      0.85        49\n",
            "           6       0.83      0.81      0.82        43\n",
            "           7       0.96      0.93      0.94        27\n",
            "           8       0.88      1.00      0.94        29\n",
            "           9       0.95      0.73      0.83        52\n",
            "\n",
            "    accuracy                           0.85       389\n",
            "   macro avg       0.87      0.86      0.86       389\n",
            "weighted avg       0.87      0.85      0.85       389\n",
            "\n",
            "LR \n",
            "              precision    recall  f1-score   support\n",
            "\n",
            "           0       0.93      0.96      0.95        45\n",
            "           1       1.00      0.92      0.96        37\n",
            "           2       0.97      1.00      0.99        38\n",
            "           3       0.97      1.00      0.99        36\n",
            "           4       1.00      1.00      1.00        33\n",
            "           5       1.00      1.00      1.00        49\n",
            "           6       0.65      1.00      0.79        43\n",
            "           7       1.00      0.56      0.71        27\n",
            "           8       1.00      0.83      0.91        29\n",
            "           9       0.98      0.87      0.92        52\n",
            "\n",
            "    accuracy                           0.93       389\n",
            "   macro avg       0.95      0.91      0.92       389\n",
            "weighted avg       0.95      0.93      0.93       389\n",
            "\n",
            "SVM \n",
            "              precision    recall  f1-score   support\n",
            "\n",
            "           0       1.00      0.91      0.95        45\n",
            "           1       0.58      0.97      0.73        37\n",
            "           2       1.00      0.89      0.94        38\n",
            "           3       1.00      0.94      0.97        36\n",
            "           4       1.00      0.97      0.98        33\n",
            "           5       1.00      0.96      0.98        49\n",
            "           6       0.93      0.86      0.89        43\n",
            "           7       1.00      1.00      1.00        27\n",
            "           8       1.00      0.90      0.95        29\n",
            "           9       1.00      0.88      0.94        52\n",
            "\n",
            "    accuracy                           0.93       389\n",
            "   macro avg       0.95      0.93      0.93       389\n",
            "weighted avg       0.95      0.93      0.93       389\n",
            "\n"
          ]
        }
      ],
      "source": [
        "print(\"BernoulliNB \")\n",
        "print(classification_report(y_test,y_predict1, zero_division=1))\n",
        "print(\"LR \")\n",
        "print(classification_report(y_test,y_predict2, zero_division=1))\n",
        "print(\"SVM \")\n",
        "print(classification_report(y_test,y_predict3, zero_division=1))"
      ]
    },
    {
      "cell_type": "markdown",
      "metadata": {
        "id": "dn2HMPQbZXFn"
      },
      "source": [
        "2.1.2. Loại các từ stop word"
      ]
    },
    {
      "cell_type": "code",
      "execution_count": null,
      "metadata": {
        "id": "SG4wbPj2ZXFn",
        "outputId": "bea49ce8-f260-433e-97c4-d7ae9875c0e8"
      },
      "outputs": [
        {
          "data": {
            "text/plain": [
              "['a_lô',\n",
              " 'ai',\n",
              " 'ai_ai',\n",
              " 'ai_nấy',\n",
              " 'alô',\n",
              " 'amen',\n",
              " 'anh',\n",
              " 'bao_giờ',\n",
              " 'bao_lâu',\n",
              " 'bao_nhiêu']"
            ]
          },
          "execution_count": 38,
          "metadata": {},
          "output_type": "execute_result"
        }
      ],
      "source": [
        "my_list_stop_word = pd.read_csv(\"stop_word.csv\").values.flatten()\n",
        "my_list_stop_word = [\"_\".join(my_list_stop_word[i].split(\" \")) for i in range(len(my_list_stop_word))]\n",
        "my_list_stop_word[:10]"
      ]
    },
    {
      "cell_type": "code",
      "execution_count": null,
      "metadata": {
        "id": "6MWuHH0fZXFo"
      },
      "outputs": [],
      "source": [
        "word_stop = [i for i in range(len(word_dict)) if word_dict[i] in my_list_stop_word][::-1]\n",
        "X_train_stop = np.copy(X_tfidf)\n",
        "word_dict_stop = np.copy(word_dict)\n",
        "X_train_stop = np.delete(X_train_stop, word_stop, 1)\n",
        "word_dict_stop = np.delete(word_dict_stop, word_stop)"
      ]
    },
    {
      "cell_type": "code",
      "execution_count": null,
      "metadata": {
        "id": "6ywPxG-BZXFp"
      },
      "outputs": [],
      "source": [
        "K = range(2, 20, 2)\n",
        "\n",
        "inertias = []\n",
        "silhouette_avg = []\n",
        "centroids_list = []\n",
        "labels_list = []\n",
        "for k in K:\n",
        "  centroids, labels = kmeans(X_train_stop, k, 'cosine')\n",
        "  centroids_list.append(centroids)\n",
        "  labels_list.append(labels)\n",
        "  inertia = cal_inertia(X_train_stop, labels, k, centroids, 'cosine')\n",
        "  inertias.append(inertia)"
      ]
    },
    {
      "cell_type": "code",
      "execution_count": null,
      "metadata": {
        "id": "PBA1J6ZmZXFp",
        "outputId": "fa16d273-30bb-457c-806d-14e5f0e02a8d"
      },
      "outputs": [
        {
          "data": {
            "text/plain": [
              "9"
            ]
          },
          "execution_count": 54,
          "metadata": {},
          "output_type": "execute_result"
        }
      ],
      "source": [
        "len(labels_list)"
      ]
    },
    {
      "cell_type": "code",
      "execution_count": null,
      "metadata": {
        "id": "RBEgJARrZXFq",
        "outputId": "de7b1945-fc3a-4095-9aa2-177b250fdc62"
      },
      "outputs": [
        {
          "data": {
            "image/png": "[encoded data removed]",
            "text/plain": [
              "<Figure size 432x288 with 1 Axes>"
            ]
          },
          "metadata": {
            "needs_background": "light"
          },
          "output_type": "display_data"
        }
      ],
      "source": [
        "plt.plot(K, inertias, 'bx-')\n",
        "plt.xlabel('Values of K')\n",
        "plt.ylabel('Inertia')\n",
        "plt.title('The Elbow Method')\n",
        "plt.show()"
      ]
    },
    {
      "cell_type": "code",
      "execution_count": null,
      "metadata": {
        "id": "qWul2RyBZXFr",
        "outputId": "7b51efe1-2309-4f0c-eb64-cff089ecf56a"
      },
      "outputs": [
        {
          "data": {
            "image/png": "[encoded data removed]",
            "text/plain": [
              "<Figure size 432x288 with 1 Axes>"
            ]
          },
          "metadata": {
            "needs_background": "light"
          },
          "output_type": "display_data"
        }
      ],
      "source": [
        "V = [v_measure_score(my_labels, labels_list[int(i/2)-1]) for i in range(2,20,2)]\n",
        "plt.plot(K, V, 'bx-')\n",
        "plt.xlabel('Values of K')\n",
        "plt.ylabel('V - Measures')\n",
        "plt.title('V - Measures')\n",
        "plt.show()"
      ]
    },
    {
      "cell_type": "code",
      "execution_count": null,
      "metadata": {
        "id": "cCwgA0ZfZXFr",
        "outputId": "7bbff5b0-c6d6-48bf-ca0b-c3565ed9b741"
      },
      "outputs": [
        {
          "name": "stdout",
          "output_type": "stream",
          "text": [
            "BernoulliNB \n",
            "              precision    recall  f1-score   support\n",
            "\n",
            "           0       0.82      0.78      0.79        40\n",
            "           1       0.97      0.95      0.96        40\n",
            "           2       0.97      0.74      0.84        38\n",
            "           3       1.00      0.86      0.92        43\n",
            "           4       0.77      0.98      0.86        48\n",
            "           5       0.66      1.00      0.80        45\n",
            "           6       0.86      0.86      0.86        35\n",
            "           7       1.00      0.56      0.72        32\n",
            "           8       1.00      0.96      0.98        26\n",
            "           9       0.79      0.74      0.77        42\n",
            "\n",
            "    accuracy                           0.85       389\n",
            "   macro avg       0.88      0.84      0.85       389\n",
            "weighted avg       0.87      0.85      0.85       389\n",
            "\n",
            "LR \n",
            "              precision    recall  f1-score   support\n",
            "\n",
            "           0       0.88      0.95      0.92        40\n",
            "           1       1.00      0.85      0.92        40\n",
            "           2       1.00      1.00      1.00        38\n",
            "           3       1.00      1.00      1.00        43\n",
            "           4       1.00      1.00      1.00        48\n",
            "           5       1.00      1.00      1.00        45\n",
            "           6       0.49      1.00      0.65        35\n",
            "           7       1.00      0.09      0.17        32\n",
            "           8       1.00      0.88      0.94        26\n",
            "           9       0.93      0.88      0.90        42\n",
            "\n",
            "    accuracy                           0.88       389\n",
            "   macro avg       0.93      0.87      0.85       389\n",
            "weighted avg       0.93      0.88      0.87       389\n",
            "\n",
            "SVM \n",
            "              precision    recall  f1-score   support\n",
            "\n",
            "           0       0.94      0.85      0.89        40\n",
            "           1       0.51      0.95      0.67        40\n",
            "           2       1.00      0.87      0.93        38\n",
            "           3       1.00      1.00      1.00        43\n",
            "           4       1.00      0.92      0.96        48\n",
            "           5       1.00      0.80      0.89        45\n",
            "           6       0.91      0.89      0.90        35\n",
            "           7       0.97      1.00      0.98        32\n",
            "           8       1.00      0.85      0.92        26\n",
            "           9       0.97      0.79      0.87        42\n",
            "\n",
            "    accuracy                           0.89       389\n",
            "   macro avg       0.93      0.89      0.90       389\n",
            "weighted avg       0.93      0.89      0.90       389\n",
            "\n"
          ]
        }
      ],
      "source": [
        "X_train, X_test, y_train, y_test = train_test_split(X_train_stop, np.array(my_labels).reshape(-1,), test_size=0.2)\n",
        "model1 = BernoulliNB()\n",
        "model1.fit(X_train, y_train)\n",
        "model2 = LogisticRegression()\n",
        "model2.fit(X_train, y_train)\n",
        "model3 = SVC()\n",
        "model3.fit(X_train, y_train)\n",
        "y_predict1 = model1.predict(X_test)\n",
        "y_predict2 = model2.predict(X_test)\n",
        "y_predict3 = model3.predict(X_test)\n",
        "print(\"BernoulliNB \")\n",
        "print(classification_report(y_test,y_predict1, zero_division=1))\n",
        "print(\"LR \")\n",
        "print(classification_report(y_test,y_predict2, zero_division=1))\n",
        "print(\"SVM \")\n",
        "print(classification_report(y_test,y_predict3, zero_division=1))"
      ]
    },
    {
      "cell_type": "markdown",
      "metadata": {
        "id": "Sv_lvZIFZXFs"
      },
      "source": [
        "2.1.3. Loại "
      ]
    },
    {
      "cell_type": "code",
      "execution_count": null,
      "metadata": {
        "id": "ueIunYa5ZXFs"
      },
      "outputs": [],
      "source": [
        "A1 = word_freq_index[word_freq == 1]\n",
        "A2 = word_freq_index[word_freq == 2]\n",
        "A3 = word_freq_index[word_freq == 9553]\n",
        "A4 = word_freq_index[word_freq == 9631]\n",
        "A5 = word_freq_index[word_freq == 11207]\n",
        "A6 = word_freq_index[word_freq == 11428]\n",
        "list_index = np.sort(np.array(list(chain(A1, A2, A3, A4, A5, A6))))[::-1]"
      ]
    },
    {
      "cell_type": "code",
      "execution_count": null,
      "metadata": {
        "id": "kQQP6Mr_ZXFt"
      },
      "outputs": [],
      "source": [
        "X_train_count = np.copy(X_tfidf)\n",
        "word_dict_count = np.copy(word_dict)\n",
        "X_train_count = np.delete(X_train_count, list_index, 1)\n",
        "word_dict_count = np.delete(word_dict_count, list_index)"
      ]
    },
    {
      "cell_type": "code",
      "execution_count": null,
      "metadata": {
        "id": "2kX2tgJIZXFt",
        "outputId": "62c2b9b9-356c-4be4-dbef-499167625a72"
      },
      "outputs": [
        {
          "data": {
            "text/plain": [
              "(1943, 11711)"
            ]
          },
          "execution_count": 66,
          "metadata": {},
          "output_type": "execute_result"
        }
      ],
      "source": [
        "X_train_count.shape"
      ]
    },
    {
      "cell_type": "code",
      "execution_count": null,
      "metadata": {
        "id": "ae57487CZXFu"
      },
      "outputs": [],
      "source": [
        "K = range(2, 20)\n",
        "\n",
        "inertias = []\n",
        "silhouette_avg = []\n",
        "centroids_list = []\n",
        "labels_list = []\n",
        "for k in K:\n",
        "  centroids, labels = kmeans(X_train_count, k, 'cosine')\n",
        "  centroids_list.append(centroids)\n",
        "  labels_list.append(labels)\n",
        "  inertia = cal_inertia(X_train_count, labels, k, centroids, 'cosine')\n",
        "  inertias.append(inertia)"
      ]
    },
    {
      "cell_type": "code",
      "execution_count": null,
      "metadata": {
        "id": "XtgyV7iiZXFu",
        "outputId": "bdc1a20e-a494-4d24-aa5a-5446bd4fbe72"
      },
      "outputs": [
        {
          "data": {
            "image/png": "[encoded data removed]",
            "text/plain": [
              "<Figure size 432x288 with 1 Axes>"
            ]
          },
          "metadata": {
            "needs_background": "light"
          },
          "output_type": "display_data"
        }
      ],
      "source": [
        "plt.plot(K, inertias, 'bx-')\n",
        "plt.xlabel('Values of K')\n",
        "plt.ylabel('Inertia')\n",
        "plt.title('The Elbow Method')\n",
        "plt.show()"
      ]
    },
    {
      "cell_type": "code",
      "execution_count": null,
      "metadata": {
        "id": "lUFH_8BTZXFv",
        "outputId": "e7f6e0a8-57e1-4f34-bd38-b4a3aec2463c"
      },
      "outputs": [
        {
          "data": {
            "image/png": "[encoded data removed]",
            "text/plain": [
              "<Figure size 432x288 with 1 Axes>"
            ]
          },
          "metadata": {
            "needs_background": "light"
          },
          "output_type": "display_data"
        }
      ],
      "source": [
        "V = [v_measure_score(my_labels, labels_list[i]) for i in range(18)]\n",
        "plt.plot(K, V, 'bx-')\n",
        "plt.xlabel('Values of K')\n",
        "plt.ylabel('V - Measures')\n",
        "plt.title('V - Measures')\n",
        "plt.show()"
      ]
    },
    {
      "cell_type": "code",
      "execution_count": null,
      "metadata": {
        "id": "CN68Qe9aZXFv",
        "outputId": "625d177c-1bd9-457a-d249-2f51e4835ad1"
      },
      "outputs": [
        {
          "name": "stdout",
          "output_type": "stream",
          "text": [
            "BernoulliNB \n",
            "              precision    recall  f1-score   support\n",
            "\n",
            "           0       0.78      0.76      0.77        37\n",
            "           1       0.98      0.98      0.98        46\n",
            "           2       0.91      0.67      0.77        45\n",
            "           3       1.00      0.77      0.87        39\n",
            "           4       0.65      1.00      0.79        34\n",
            "           5       0.49      1.00      0.66        35\n",
            "           6       0.91      0.65      0.76        48\n",
            "           7       0.95      0.57      0.71        37\n",
            "           8       0.93      0.93      0.93        29\n",
            "           9       0.78      0.72      0.75        39\n",
            "\n",
            "    accuracy                           0.79       389\n",
            "   macro avg       0.84      0.80      0.80       389\n",
            "weighted avg       0.85      0.79      0.80       389\n",
            "\n",
            "LR \n",
            "              precision    recall  f1-score   support\n",
            "\n",
            "           0       0.70      0.86      0.77        37\n",
            "           1       1.00      0.87      0.93        46\n",
            "           2       1.00      0.80      0.89        45\n",
            "           3       0.72      0.97      0.83        39\n",
            "           4       0.74      1.00      0.85        34\n",
            "           5       0.65      1.00      0.79        35\n",
            "           6       0.64      0.94      0.76        48\n",
            "           7       1.00      0.00      0.00        37\n",
            "           8       1.00      0.14      0.24        29\n",
            "           9       0.75      0.77      0.76        39\n",
            "\n",
            "    accuracy                           0.76       389\n",
            "   macro avg       0.82      0.74      0.68       389\n",
            "weighted avg       0.82      0.76      0.70       389\n",
            "\n",
            "SVM \n",
            "              precision    recall  f1-score   support\n",
            "\n",
            "           0       0.91      0.84      0.87        37\n",
            "           1       0.62      0.98      0.76        46\n",
            "           2       0.98      0.91      0.94        45\n",
            "           3       1.00      0.92      0.96        39\n",
            "           4       0.97      0.85      0.91        34\n",
            "           5       0.97      0.89      0.93        35\n",
            "           6       0.93      0.83      0.88        48\n",
            "           7       0.97      0.97      0.97        37\n",
            "           8       1.00      0.93      0.96        29\n",
            "           9       0.89      0.79      0.84        39\n",
            "\n",
            "    accuracy                           0.89       389\n",
            "   macro avg       0.92      0.89      0.90       389\n",
            "weighted avg       0.92      0.89      0.90       389\n",
            "\n"
          ]
        }
      ],
      "source": [
        "X_train, X_test, y_train, y_test = train_test_split(X_train_count, np.array(my_labels).reshape(-1,), test_size=0.2)\n",
        "model1 = BernoulliNB()\n",
        "model1.fit(X_train, y_train)\n",
        "model2 = LogisticRegression()\n",
        "model2.fit(X_train, y_train)\n",
        "model3 = SVC()\n",
        "model3.fit(X_train, y_train)\n",
        "y_predict1 = model1.predict(X_test)\n",
        "y_predict2 = model2.predict(X_test)\n",
        "y_predict3 = model3.predict(X_test)\n",
        "print(\"BernoulliNB \")\n",
        "print(classification_report(y_test,y_predict1, zero_division=1))\n",
        "print(\"LR \")\n",
        "print(classification_report(y_test,y_predict2, zero_division=1))\n",
        "print(\"SVM \")\n",
        "print(classification_report(y_test,y_predict3, zero_division=1))"
      ]
    },
    {
      "cell_type": "markdown",
      "metadata": {
        "id": "cUWM_ie8ZXFw"
      },
      "source": [
        "2.1.4. Giữ nguyên"
      ]
    },
    {
      "cell_type": "code",
      "execution_count": null,
      "metadata": {
        "id": "xmzKH7qQZXFw",
        "outputId": "402c5e2b-ee62-4812-a5d1-c335506b88ba"
      },
      "outputs": [
        {
          "name": "stdout",
          "output_type": "stream",
          "text": [
            "BernoulliNB \n",
            "              precision    recall  f1-score   support\n",
            "\n",
            "           0       0.82      0.86      0.84        36\n",
            "           1       0.86      0.94      0.90        34\n",
            "           2       0.97      0.75      0.85        48\n",
            "           3       1.00      0.80      0.89        44\n",
            "           4       0.72      0.98      0.83        42\n",
            "           5       0.63      0.97      0.77        39\n",
            "           6       0.90      0.86      0.88        42\n",
            "           7       1.00      0.59      0.75        32\n",
            "           8       1.00      0.87      0.93        30\n",
            "           9       0.80      0.76      0.78        42\n",
            "\n",
            "    accuracy                           0.84       389\n",
            "   macro avg       0.87      0.84      0.84       389\n",
            "weighted avg       0.87      0.84      0.84       389\n",
            "\n",
            "LR \n",
            "              precision    recall  f1-score   support\n",
            "\n",
            "           0       0.70      0.97      0.81        36\n",
            "           1       1.00      0.97      0.99        34\n",
            "           2       1.00      1.00      1.00        48\n",
            "           3       1.00      1.00      1.00        44\n",
            "           4       1.00      1.00      1.00        42\n",
            "           5       0.93      1.00      0.96        39\n",
            "           6       0.76      1.00      0.87        42\n",
            "           7       1.00      0.44      0.61        32\n",
            "           8       1.00      0.67      0.80        30\n",
            "           9       0.95      0.93      0.94        42\n",
            "\n",
            "    accuracy                           0.92       389\n",
            "   macro avg       0.93      0.90      0.90       389\n",
            "weighted avg       0.93      0.92      0.91       389\n",
            "\n",
            "SVM \n",
            "              precision    recall  f1-score   support\n",
            "\n",
            "           0       0.97      0.92      0.94        36\n",
            "           1       0.48      0.94      0.64        34\n",
            "           2       1.00      0.94      0.97        48\n",
            "           3       1.00      0.98      0.99        44\n",
            "           4       1.00      0.86      0.92        42\n",
            "           5       0.97      0.87      0.92        39\n",
            "           6       0.93      0.93      0.93        42\n",
            "           7       0.97      1.00      0.98        32\n",
            "           8       1.00      0.67      0.80        30\n",
            "           9       1.00      0.83      0.91        42\n",
            "\n",
            "    accuracy                           0.90       389\n",
            "   macro avg       0.93      0.89      0.90       389\n",
            "weighted avg       0.94      0.90      0.91       389\n",
            "\n"
          ]
        }
      ],
      "source": [
        "X_train, X_test, y_train, y_test = train_test_split(X_tfidf, np.array(my_labels).reshape(-1,), test_size=0.2)\n",
        "model1 = BernoulliNB()\n",
        "model1.fit(X_train, y_train)\n",
        "model2 = LogisticRegression()\n",
        "model2.fit(X_train, y_train)\n",
        "model3 = SVC()\n",
        "model3.fit(X_train, y_train)\n",
        "y_predict1 = model1.predict(X_test)\n",
        "y_predict2 = model2.predict(X_test)\n",
        "y_predict3 = model3.predict(X_test)\n",
        "print(\"BernoulliNB \")\n",
        "print(classification_report(y_test,y_predict1, zero_division=1))\n",
        "print(\"LR \")\n",
        "print(classification_report(y_test,y_predict2, zero_division=1))\n",
        "print(\"SVM \")\n",
        "print(classification_report(y_test,y_predict3, zero_division=1))"
      ]
    },
    {
      "cell_type": "code",
      "execution_count": null,
      "metadata": {
        "id": "BqfSd_UhZXFx"
      },
      "outputs": [],
      "source": [
        "K = range(2, 20)\n",
        "\n",
        "inertias = []\n",
        "silhouette_avg = []\n",
        "centroids_list = []\n",
        "labels_list = []\n",
        "for k in K:\n",
        "  centroids, labels = kmeans(X_tfidf, k, 'cosine')\n",
        "  centroids_list.append(centroids)\n",
        "  labels_list.append(labels)\n",
        "  inertia = cal_inertia(X_tfidf, labels, k, centroids, 'cosine')\n",
        "  inertias.append(inertia)"
      ]
    },
    {
      "cell_type": "code",
      "execution_count": null,
      "metadata": {
        "id": "1UJJZXhOZXFx",
        "outputId": "c6789da0-4c74-4451-f732-a9506d7babc8"
      },
      "outputs": [
        {
          "data": {
            "image/png": "[encoded data removed]",
            "text/plain": [
              "<Figure size 432x288 with 1 Axes>"
            ]
          },
          "metadata": {
            "needs_background": "light"
          },
          "output_type": "display_data"
        }
      ],
      "source": [
        "plt.plot(K, inertias, 'bx-')\n",
        "plt.xlabel('Values of K')\n",
        "plt.ylabel('Inertia')\n",
        "plt.title('The Elbow Method')\n",
        "plt.show()"
      ]
    },
    {
      "cell_type": "code",
      "execution_count": null,
      "metadata": {
        "id": "LMRKdzV0ZXFz",
        "outputId": "092c95aa-919d-48c9-a881-e884d399238a"
      },
      "outputs": [
        {
          "data": {
            "image/png": "[encoded data removed]",
            "text/plain": [
              "<Figure size 432x288 with 1 Axes>"
            ]
          },
          "metadata": {
            "needs_background": "light"
          },
          "output_type": "display_data"
        }
      ],
      "source": [
        "V = [v_measure_score(my_labels, labels_list[i]) for i in range(18)]\n",
        "plt.plot(K, V, 'bx-')\n",
        "plt.xlabel('Values of K')\n",
        "plt.ylabel('V - Measures')\n",
        "plt.title('V - Measures')\n",
        "plt.show()"
      ]
    }
  ],
  "metadata": {
    "kernelspec": {
      "display_name": "Python 3.9.7 ('base')",
      "language": "python",
      "name": "python3"
    },
    "language_info": {
      "codemirror_mode": {
        "name": "ipython",
        "version": 3
      },
      "file_extension": ".py",
      "mimetype": "text/x-python",
      "name": "python",
      "nbconvert_exporter": "python",
      "pygments_lexer": "ipython3",
      "version": "3.9.7"
    },
    "orig_nbformat": 4,
    "vscode": {
      "interpreter": {
        "hash": "585a938ec471c889bf0cce0aed741a99eaf47ca09c0fa8393793bc5bfe77ba11"
      }
    },
    "colab": {
      "provenance": []
    }
  },
  "nbformat": 4,
  "nbformat_minor": 0
}